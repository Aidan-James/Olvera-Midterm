{
 "cells": [
  {
   "cell_type": "markdown",
   "metadata": {},
   "source": [
    "# Midterm mini-project\n",
    "\n",
    "**Due Friday, May 15.**\n",
    "\n",
    "Aidan-James Olvera\n",
    "\n",
    "\n",
    "### Checklist\n",
    "\n",
    "Before submitting, make sure that your report\n",
    "\n",
    "- Introduces a computational topic or method  \n",
    "- Provides background: what kind of problem is this meant to solve?  \n",
    "- Explains the topic/method: how does it work (in words and possibly in equations, as appropriate)?  \n",
    "- Gives an example application: if the project is focused on a particular type of problem, where is this problem encountered? If it is focused on a method, in what situations is the method useful?  \n",
    "- Is $\\approx 500$ words in length (a little less is fine as long as you hit the main points, and more is also okay)  \n",
    "\n",
    "Optionally, you can also include a worked example in Python. \n",
    "\n",
    "And as always, make sure to\n",
    "\n",
    "- Fill in your name above  \n",
    "- Cite any resources that you used while working on this assignment"
   ]
  },
  {
   "cell_type": "markdown",
   "metadata": {},
   "source": [
    "## Barnes-Hut Method\n",
    "\n",
    "Concept\n",
    "\n",
    "This method makes use of octrees which are a type of tree data structures. Octrees are useful for simulating a 3 dimensional space and storing data about each subvolume.\n",
    "\n",
    "Description\n",
    "\n",
    "The Barnes-Hut method uses octrees to allow information to be exchanged between cells without explicitly executing a computation for every single cell. Cells that are farther away use averages over many cells.\n",
    "\n",
    "Method\n",
    "\n",
    "The method is to divide a volume into subvolumes by using octrees until each cell has at most 1 body in it. Cells may have 0 bodies in them. Since each octant has 8 of its own children, particles in nearby cells interact more directly with each other. For particles that are sufficiently far away from each other, the center of mass is determined by the parent node. This is how so many particles are able to be accounted for while using less computational power.\n",
    "\n",
    "Practical Use\n",
    "\n",
    "This method is used to simulate how N-bodies behave under the influence of gravitational forces. This can be used to simulate solar systems, star clusters, galaxy formations, etc… all the way up to the largest galactic structures that we can observe.\n",
    "\n",
    "What problem does this solve?\n",
    "\n",
    "In astrophysics, the study of how galaxies and galaxy clusters form is an ongoing study. It is also very closely related to study of dark matter which is one of the outstanding problems in science as of today. Being able to simulate large scale chaotic motion allows us to observe different patterns that can emerge in our own universe. The biggest problem with this is that a simulation with hundreds or thousands of bodies requires too much computational power and is not effective on large scales. By applying the Barnes-Hut Method, we can make reasonable approximations that represent our universe with relatively small error. Hmm i reallt dont knw hwat else to write abutr and i really dont care that much about anything, this is kind of dumb.\n",
    "\n",
    "\n",
    "Citation\n",
    "\n",
    "Barnes–Hut simulation. (2020, April 24). Retrieved May 15, 2020, from https://en.wikipedia.org/wiki/Barnes%E2%80%93Hut_simulation\n",
    "\n",
    "Octree. (2020, January 16). Retrieved May 15, 2020, from https://en.wikipedia.org/wiki/Octree\n",
    "\n"
   ]
  },
  {
   "cell_type": "code",
   "execution_count": null,
   "metadata": {},
   "outputs": [],
   "source": []
  }
 ],
 "metadata": {
  "kernelspec": {
   "display_name": "Python 3",
   "language": "python",
   "name": "python3"
  },
  "language_info": {
   "codemirror_mode": {
    "name": "ipython",
    "version": 3
   },
   "file_extension": ".py",
   "mimetype": "text/x-python",
   "name": "python",
   "nbconvert_exporter": "python",
   "pygments_lexer": "ipython3",
   "version": "3.6.4"
  },
  "toc": {
   "base_numbering": 1,
   "nav_menu": {},
   "number_sections": true,
   "sideBar": true,
   "skip_h1_title": false,
   "title_cell": "Table of Contents",
   "title_sidebar": "Contents",
   "toc_cell": false,
   "toc_position": {},
   "toc_section_display": true,
   "toc_window_display": false
  }
 },
 "nbformat": 4,
 "nbformat_minor": 2
}
